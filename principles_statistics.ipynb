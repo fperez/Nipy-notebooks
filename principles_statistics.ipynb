{
 "metadata": {
  "name": "principles_statistics"
 },
 "nbformat": 3,
 "worksheets": [
  {
   "cells": [
    {
     "cell_type": "markdown",
     "source": [
      "# Principles of statistics in Statistical Parametric Mapping with NiPy",
      "",
      "In order to run this tutorial, you'll need to ",
      "[download](http://imaging.mrc-cbu.cam.ac.uk/downloads/Tutscans/egscans.tar.gz) ",
      "and unpack a set of data files.",
      "",
      "The following two commands will download and unpack them on linux:",
      "",
      "    wget http://imaging.mrc-cbu.cam.ac.uk/downloads/Tutscans/egscans.tar.gz",
      "    tar xzf egscans.tar.gz",
      "",
      "The `fetch_scans()` function below will do all the downloading",
      "in a cross-platform manner, using python-only tools.  You should run it even if you downloaded the files",
      "manually, as it will compute the necessary paths for the rest of the script (it won't re-download files",
      "already present)."
     ]
    },
    {
     "cell_type": "code",
     "collapsed": false,
     "input": [
      "import os",
      "import tarfile",
      "import urllib",
      "",
      "def fetch_scans():",
      "    # Names of the files in the data bundle",
      "    scans_dir = 'egscans'",
      "    files = [os.path.join(scans_dir, 'snn03055dy%i.img' % i) for i in range(1,13)]",
      "    ",
      "    # The remote url and filename for local storage",
      "    data_url = 'http://imaging.mrc-cbu.cam.ac.uk/downloads/Tutscans/egscans.tar.gz'",
      "    tarball = 'egscans.tar.gz'",
      "",
      "    # First, check that we don't already have the files, whose names are:",
      "    if all(map(os.path.isfile, files)):",
      "        print 'All files already present, nothing to download.'",
      "        return files",
      "    ",
      "    # If we don't have them, make the storage directory, fetch (if needed)",
      "    # and unpack skipping the .mat files that are in the tarball.",
      "    if not os.path.isdir(scans_dir):",
      "        os.mkdir(scans_dir)",
      "",
      "    if not os.path.isfile(tarball):",
      "        print \"Fetching remote tarball, this may take some time depending on your network...\"",
      "        urllib.urlretrieve(data_url, tarball)",
      "",
      "    print \"Unpacking scans, omitting .mat files\"",
      "    tf = tarfile.open(tarball, 'r:gz')",
      "    image_files = [ f for f in tf.getmembers() if not f.name.endswith('.mat')]",
      "    tf.extractall(scans_dir, image_files)",
      "    print \"All files unpacked into\", scans_dir, ', done!'",
      "    return files",
      "",
      "files = fetch_scans()"
     ],
     "language": "python",
     "outputs": [
      {
       "output_type": "stream",
       "stream": "stdout",
       "text": [
        "All files already present, nothing to download."
       ]
      }
     ],
     "prompt_number": 21
    },
    {
     "cell_type": "markdown",
     "source": [
      "Let's now make actual images out of these files"
     ]
    },
    {
     "cell_type": "code",
     "collapsed": false,
     "input": [
      "import nibabel as nib",
      "images = map(nib.load, files)"
     ],
     "language": "python",
     "outputs": [],
     "prompt_number": 22
    },
    {
     "cell_type": "code",
     "collapsed": true,
     "input": [
      "# grand mean for data",
      "GM = 50"
     ],
     "language": "python",
     "outputs": [],
     "prompt_number": 23
    },
    {
     "cell_type": "markdown",
     "source": [
      "Now we load the affine transformation from the first image (it's the same for all) and extract the conversion",
      "parameters from voxels to MNI space (in mm)."
     ]
    },
    {
     "cell_type": "code",
     "collapsed": true,
     "input": [
      "# transformation from voxel no to mm",
      "M = images[0].get_affine()",
      "# mm to voxel no",
      "iM = np.linalg.inv(M)",
      "# coordinates of voxel of interest in mm (MNI space)",
      "posmm = [-20.0, -42, 34]",
      "# coordinates in voxel space (in homogenous coordinates)",
      "posvox = np.dot(iM, posmm + [1])",
      "# We grab the spatial part of the output.  Since we want to use it as an ",
      "# index, we need to make it a tuple",
      "posvox = tuple(posvox[:3].astype(int))"
     ],
     "language": "python",
     "outputs": [],
     "prompt_number": 24
    },
    {
     "cell_type": "markdown",
     "source": [
      "We need to define a small utility function commonly used in SPM, we'll call it `global_mean`."
     ]
    },
    {
     "cell_type": "code",
     "collapsed": true,
     "input": [
      "def global_mean(img):",
      "    \"\"\"Compute a \"sorted global mean\" of an image.",
      "",
      "    This returns the mean of the image voxels that are in the range above ",
      "    1/8 of the mean.\"\"\"",
      "    ",
      "    m = img.mean()/8.0",
      "    return img[img>m].mean()"
     ],
     "language": "python",
     "outputs": [],
     "prompt_number": 25
    },
    {
     "cell_type": "markdown",
     "source": [
      "With this utility, we can now get the data for the voxel of interest across all the images"
     ]
    },
    {
     "cell_type": "code",
     "collapsed": true,
     "input": [
      "nimgs = len(images)",
      "vdata = np.zeros(nimgs)",
      "gdata = np.zeros(nimgs)",
      "for i, V in enumerate(images):",
      "    d = V.get_data()",
      "    vdata[i] = d[posvox]",
      "    gdata[i] = global_mean(d)"
     ],
     "language": "python",
     "outputs": [],
     "prompt_number": 26
    },
    {
     "cell_type": "markdown",
     "source": [
      "# plot globals"
     ]
    },
    {
     "cell_type": "code",
     "collapsed": false,
     "input": [
      "plt.plot(gdata, vdata, 'x')",
      "plt.xlabel('TMVV for scan')",
      "plt.ylabel('Voxel value for -20 -42 34')",
      "plt.title('The relationship of overall signal to values for an individual voxel')"
     ],
     "language": "python",
     "outputs": [
      {
       "output_type": "pyout",
       "prompt_number": 27,
       "text": [
        "<matplotlib.text.Text at 0x3a8e950>"
       ]
      },
      {
       "output_type": "display_data",
       "png": "[encoded data removed]"
      }
     ],
     "prompt_number": 27
    },
    {
     "cell_type": "code",
     "collapsed": false,
     "input": [
      "# We can check against the current data in the Cambridge wiki tutorial",
      "from IPython.core.display import Image",
      "Image('http://imaging.mrc-cbu.cam.ac.uk/images/st_globals.gif')"
     ],
     "language": "python",
     "outputs": [
      {
       "html": [
        "<img src=\"http://imaging.mrc-cbu.cam.ac.uk/images/st_globals.gif\" />"
       ],
       "output_type": "pyout",
       "prompt_number": 28,
       "text": [
        "<IPython.core.display.Image at 0x3a80250>"
       ]
      }
     ],
     "prompt_number": 28
    },
    {
     "cell_type": "code",
     "collapsed": true,
     "input": [
      "# proportionally scale data",
      "pvdata = vdata / gdata",
      "# scale to global mean of 50",
      "Y = pvdata * GM",
      "# our covariate",
      "ourcov = np.array([5,4,4,2,3,1,6,3,1,6,5,2])"
     ],
     "language": "python",
     "outputs": [],
     "prompt_number": 29
    },
    {
     "cell_type": "code",
     "collapsed": false,
     "input": [
      "# plot data ",
      "plot(ourcov, Y, 'x')",
      "xlabel('Task difficulty')",
      "ylabel('PS voxel value')",
      "xlim(0, 7)",
      "title('The relationship of task difficulty to voxel value');"
     ],
     "language": "python",
     "outputs": [
      {
       "output_type": "display_data",
       "png": "[encoded data removed]"
      }
     ],
     "prompt_number": 30
    },
    {
     "cell_type": "code",
     "collapsed": true,
     "input": [
      "# guess intercept, slope, estimated points",
      "guessic   = 55",
      "guesslope = 0.5",
      "guessPts  = guessic + guesslope*ourcov"
     ],
     "language": "python",
     "outputs": [],
     "prompt_number": 31
    },
    {
     "cell_type": "markdown",
     "source": [
      "For plotting it will be convenient to have the boundaries of our plot region available"
     ]
    },
    {
     "cell_type": "code",
     "collapsed": true,
     "input": [
      "minx = 0",
      "maxx = ourcov.max()+1 # min max x for plots",
      "axs = np.array([minx, maxx, Y.min()*0.98, Y.max()*1.02])"
     ],
     "language": "python",
     "outputs": [],
     "prompt_number": 32
    },
    {
     "cell_type": "code",
     "collapsed": false,
     "input": [
      "# plot data with guess intercept and slope",
      "plot(ourcov, Y, 'x')",
      "plot(axs[:2], guessic+guesslope*axs[:2], ':') # guessed line",
      "# plot guessed residuals",
      "for i, c in enumerate(ourcov):",
      "  plot([c, c], [Y[i], guessPts[i]], color='r')",
      "plt.axis(axs)",
      "xlabel('Task difficulty')",
      "ylabel('PS voxel value')",
      "xlim(0, 7)",
      "title('A first guess at a linear relationship, and its residuals');"
     ],
     "language": "python",
     "outputs": [
      {
       "output_type": "display_data",
       "png": "[encoded data removed]"
      }
     ],
     "prompt_number": 33
    },
    {
     "cell_type": "code",
     "collapsed": true,
     "input": [
      "def scale_design_mtx(X):",
      "    \"\"\"utility to scale the design matrix for display\"\"\"",
      "    ",
      "    mi, ma = X.min(axis=0), X.max(axis=0)",
      "    col_neq = (ma - mi) > 1.e-8",
      "    Xs = np.ones_like(X)",
      "    mi = mi[col_neq]",
      "    ma = ma[col_neq]",
      "    Xs[:,col_neq] = (X[:,col_neq] - mi)/(ma - mi)",
      "    return Xs"
     ],
     "language": "python",
     "outputs": [],
     "prompt_number": 34
    },
    {
     "cell_type": "code",
     "collapsed": false,
     "input": [
      "# residuals from guess slope",
      "guessRes = Y - guessPts",
      "",
      "# design matrix, df",
      "X  = np.column_stack([ourcov, ones(nimgs)])",
      "df = nimgs - np.linalg.matrix_rank(X)",
      "",
      "# mean SoS for guess slope",
      "guessRSS = (guessRes**2).sum() / df",
      "",
      "# show design matrix",
      "figure()",
      "plt.gray()",
      "imshow(scale_design_mtx(X), interpolation='nearest')",
      "title('Design matrix for the first analysis')"
     ],
     "language": "python",
     "outputs": [
      {
       "output_type": "pyout",
       "prompt_number": 35,
       "text": [
        "<matplotlib.text.Text at 0x3de5190>"
       ]
      },
      {
       "output_type": "display_data",
       "png": "[encoded data removed]"
      }
     ],
     "prompt_number": 35
    },
    {
     "cell_type": "code",
     "collapsed": false,
     "input": [
      "# the analysis, giving slope and constant",
      "B = dot(pinv(X), Y)",
      "",
      "# plot data with new least squares line",
      "plot(ourcov, Y, 'x')",
      "bound = np.array([minx, maxx])",
      "plot(bound, bound*B[0]+B[1], 'r')",
      "axis(axs)",
      "xlabel('Task difficulty')",
      "ylabel('PS voxel value')",
      "title('The least squares linear relationship');"
     ],
     "language": "python",
     "outputs": [
      {
       "output_type": "display_data",
       "png": "[encoded data removed]"
      }
     ],
     "prompt_number": 36
    },
    {
     "cell_type": "markdown",
     "source": [
      "We'll need some statistical machinery from scipy"
     ]
    },
    {
     "cell_type": "code",
     "collapsed": true,
     "input": [
      "from scipy.stats import t as tdist, norm as normdist"
     ],
     "language": "python",
     "outputs": [],
     "prompt_number": 37
    },
    {
     "cell_type": "markdown",
     "source": [
      "And now we can compute our stats for this contrast:",
      "The $\\textbf{Residual Sum of Square}$ (RSS) is :",
      "",
      "$$ RSS = \\sum_{i=1}^{12} (Y_i - X_i \\beta)$$",
      "",
      "$X_i$ is the $i$th row of the matrix $X$. The $\\textbf{Mean Residual Sum of Square}$ is :",
      "",
      "$$ MRSS = RSS / \\textit{df} $$",
      "",
      "where $\\textit{df}$ are the degrees of freedom, computed as the number of observation (here, 12) minus the rank of the design matrix (ie, the number of independant vectors in X). The $MRSS$ is the noise variance estimation: $\\widehat{\\sigma^2}$.",
      "",
      "The $\\textbf{Standard Error}$ (SE) of $C \\beta$ is computed with $ \\sqrt{\\widehat{\\sigma^2} c (X^t X)^+ c^t} $   "
     ]
    },
    {
     "cell_type": "code",
     "collapsed": false,
     "input": [
      "# Contrast",
      "C = np.array([1, 0])",
      "# t statistic and significance test",
      "RSS   = ((Y - dot(X, B))**2).sum()",
      "MRSS  = RSS / df",
      "SE    = np.sqrt(MRSS*(C.dot(pinv(X.T.dot(X))).dot(C.T)))",
      "t     = C.dot(B)/SE",
      "ltp   = tdist(df).cdf(t) # lower tail p",
      "Z     = normdist().ppf(ltp)",
      "p     = 1-ltp           # upper tail p ",
      "",
      "# print results to matlab window",
      "print 'First TD analysis: t= %2.2f, p= %0.6f' % (t, p)"
     ],
     "language": "python",
     "outputs": [
      {
       "output_type": "stream",
       "stream": "stdout",
       "text": [
        "First TD analysis: t= 7.95, p= 0.000006"
       ]
      }
     ],
     "prompt_number": 38
    },
    {
     "cell_type": "markdown",
     "source": [
      "Text and math: $x+1+\\gamma+\\int|\\sum_{i=0}^\\infty$ and displayed",
      "",
      "$$x+\\int f(x) \\sum_{i=0}^\\infty$$",
      "",
      "and more text"
     ]
    },
    {
     "cell_type": "code",
     "collapsed": true,
     "input": [
      "# save data for analysis in e.g. SPSS",
      "np.savetxt(\"voxdata.txt\", Y)"
     ],
     "language": "python",
     "outputs": [],
     "prompt_number": 39
    },
    {
     "cell_type": "markdown",
     "source": [
      "now analysis for added covariate",
      "note that this and all the other analyses here use",
      "exactly the same code as above"
     ]
    },
    {
     "cell_type": "code",
     "collapsed": false,
     "input": [
      "# design matrix, df",
      "X = np.column_stack([ourcov, np.arange(1, nimgs+1), np.ones(nimgs)])",
      "df = nimgs - np.linalg.matrix_rank(X)",
      "# show design matrix",
      "plt.gray()",
      "plt.imshow(X)",
      "plt.title('Design matrix for added covariate')"
     ],
     "language": "python",
     "outputs": [
      {
       "ename": "AttributeError",
       "evalue": "'NoneType' object has no attribute 'canvas'",
       "output_type": "pyerr",
       "traceback": [
        "\u001b[1;31m---------------------------------------------------------------------------\u001b[0m\n\u001b[1;31mAttributeError\u001b[0m                            Traceback (most recent call last)",
        "\u001b[1;32m/home/jb/code/nipy-notebooks/<ipython-input-40-e270772bd034>\u001b[0m in \u001b[0;36m<module>\u001b[1;34m()\u001b[0m\n\u001b[0;32m      3\u001b[0m \u001b[0mdf\u001b[0m \u001b[1;33m=\u001b[0m \u001b[0mnimgs\u001b[0m \u001b[1;33m-\u001b[0m \u001b[0mnp\u001b[0m\u001b[1;33m.\u001b[0m\u001b[0mlinalg\u001b[0m\u001b[1;33m.\u001b[0m\u001b[0mmatrix_rank\u001b[0m\u001b[1;33m(\u001b[0m\u001b[0mX\u001b[0m\u001b[1;33m)\u001b[0m\u001b[1;33m\u001b[0m\u001b[0m\n\u001b[0;32m      4\u001b[0m \u001b[1;31m# show design matrix\u001b[0m\u001b[1;33m\u001b[0m\u001b[1;33m\u001b[0m\u001b[0m\n\u001b[1;32m----> 5\u001b[1;33m \u001b[0mplt\u001b[0m\u001b[1;33m.\u001b[0m\u001b[0mgray\u001b[0m\u001b[1;33m(\u001b[0m\u001b[1;33m)\u001b[0m\u001b[1;33m\u001b[0m\u001b[0m\n\u001b[0m\u001b[0;32m      6\u001b[0m \u001b[0mplt\u001b[0m\u001b[1;33m.\u001b[0m\u001b[0mimshow\u001b[0m\u001b[1;33m(\u001b[0m\u001b[0mX\u001b[0m\u001b[1;33m)\u001b[0m\u001b[1;33m\u001b[0m\u001b[0m\n\u001b[0;32m      7\u001b[0m \u001b[0mplt\u001b[0m\u001b[1;33m.\u001b[0m\u001b[0mtitle\u001b[0m\u001b[1;33m(\u001b[0m\u001b[1;34m'Design matrix for added covariate'\u001b[0m\u001b[1;33m)\u001b[0m\u001b[1;33m\u001b[0m\u001b[0m\n",
        "\u001b[1;32m/usr/lib/pymodules/python2.7/matplotlib/pyplot.pyc\u001b[0m in \u001b[0;36mgray\u001b[1;34m()\u001b[0m\n\u001b[0;32m   2555\u001b[0m     \u001b[1;32mif\u001b[0m \u001b[0mim\u001b[0m \u001b[1;32mis\u001b[0m \u001b[1;32mnot\u001b[0m \u001b[0mNone\u001b[0m\u001b[1;33m:\u001b[0m\u001b[1;33m\u001b[0m\u001b[0m\n\u001b[0;32m   2556\u001b[0m         \u001b[0mim\u001b[0m\u001b[1;33m.\u001b[0m\u001b[0mset_cmap\u001b[0m\u001b[1;33m(\u001b[0m\u001b[0mcm\u001b[0m\u001b[1;33m.\u001b[0m\u001b[0mgray\u001b[0m\u001b[1;33m)\u001b[0m\u001b[1;33m\u001b[0m\u001b[0m\n\u001b[1;32m-> 2557\u001b[1;33m     \u001b[0mdraw_if_interactive\u001b[0m\u001b[1;33m(\u001b[0m\u001b[1;33m)\u001b[0m\u001b[1;33m\u001b[0m\u001b[0m\n\u001b[0m\u001b[0;32m   2558\u001b[0m \u001b[1;33m\u001b[0m\u001b[0m\n\u001b[0;32m   2559\u001b[0m \u001b[1;33m\u001b[0m\u001b[0m\n",
        "\u001b[1;32m/usr/local/lib/python2.7/dist-packages/IPython/zmq/pylab/backend_inline.pyc\u001b[0m in \u001b[0;36mdraw_if_interactive\u001b[1;34m()\u001b[0m\n\u001b[0;32m    123\u001b[0m     \u001b[1;31m# will act upon these values\u001b[0m\u001b[1;33m\u001b[0m\u001b[1;33m\u001b[0m\u001b[0m\n\u001b[0;32m    124\u001b[0m \u001b[1;33m\u001b[0m\u001b[0m\n\u001b[1;32m--> 125\u001b[1;33m     \u001b[0mfig\u001b[0m \u001b[1;33m=\u001b[0m \u001b[0mGcf\u001b[0m\u001b[1;33m.\u001b[0m\u001b[0mget_active\u001b[0m\u001b[1;33m(\u001b[0m\u001b[1;33m)\u001b[0m\u001b[1;33m.\u001b[0m\u001b[0mcanvas\u001b[0m\u001b[1;33m.\u001b[0m\u001b[0mfigure\u001b[0m\u001b[1;33m\u001b[0m\u001b[0m\n\u001b[0m\u001b[0;32m    126\u001b[0m \u001b[1;33m\u001b[0m\u001b[0m\n\u001b[0;32m    127\u001b[0m     \u001b[1;31m# ensure current figure will be drawn, and each subsequent call\u001b[0m\u001b[1;33m\u001b[0m\u001b[1;33m\u001b[0m\u001b[0m\n",
        "\u001b[1;31mAttributeError\u001b[0m: 'NoneType' object has no attribute 'canvas'"
       ]
      }
     ],
     "prompt_number": 40
    },
    {
     "cell_type": "code",
     "collapsed": true,
     "input": [
      "# Contrast",
      "C = np.array([1, 0, 0])",
      "# the analysis, giving slope and constant",
      "B = dot(pinv(X), Y)",
      "",
      "# t statistic and significance test",
      "RSS   = ((Y - dot(X, B))**2).sum()",
      "MRSS  = RSS / df",
      "SE    = np.sqrt(MRSS*(C.dot(pinv(X.T.dot(X))).dot(C.T)))",
      "t     = C.dot(B)/SE",
      "ltp   = tdist(df).cdf(t) # lower tail p",
      "Z     = normdist().ppf(ltp)",
      "p     = 1-ltp           # upper tail p ",
      "",
      "# print results to matlab window",
      "print 'Added covariate analysis: t= %2.2f, p= %0.6f' % (t, p)"
     ],
     "language": "python",
     "outputs": []
    },
    {
     "cell_type": "markdown",
     "source": [
      "# Conditions analysis"
     ]
    },
    {
     "cell_type": "code",
     "collapsed": true,
     "input": [],
     "language": "python",
     "outputs": []
    }
   ]
  }
 ]
}